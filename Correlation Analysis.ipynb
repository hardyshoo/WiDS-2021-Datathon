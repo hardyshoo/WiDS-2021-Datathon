{
 "cells": [
  {
   "cell_type": "code",
   "execution_count": 1,
   "metadata": {},
   "outputs": [],
   "source": [
    "import pandas as pd\n",
    "import numpy as np\n",
    "\n",
    "pd.set_option('max_rows', 500)\n",
    "pd.set_option('display.max_columns', 300)\n",
    "np.random.seed(666)\n",
    "pd.set_option('display.max_rows', 500)\n",
    "pd.set_option('display.width', 1000)\n",
    "pd.set_option('display.float_format', '{:20,.3f}'.format)\n",
    "pd.set_option('display.max_colwidth', None)"
   ]
  },
  {
   "cell_type": "code",
   "execution_count": 2,
   "metadata": {},
   "outputs": [],
   "source": [
    "TARGET_COL = 'diabetes_mellitus'\n",
    "cat_cols = ['ethnicity', 'gender', 'hospital_admit_source', 'icu_admit_source', 'icu_stay_type', 'icu_type']\n",
    "\n",
    "def target_encode(var, dv, weight = 36):\n",
    "    mean = dv.mean()\n",
    "    true_weight = weight * max(1, mean/(1-mean))\n",
    "    agg = dv.groupby(var,dropna=False).agg(['count','mean'])\n",
    "    counts = agg['count']\n",
    "    means = agg['mean']\n",
    "    return (counts * means + true_weight) / (counts + true_weight/mean)\n",
    "\n",
    "def target_encode_train_test(var_train, dv_train, var_test, weight = 36):\n",
    "    encode_key = target_encode(var_train,dv_train,weight)\n",
    "    return var_train.map(encode_key), var_test.map(encode_key).fillna(dv_train.mean())"
   ]
  },
  {
   "cell_type": "code",
   "execution_count": 3,
   "metadata": {},
   "outputs": [],
   "source": [
    "train = pd.read_csv('Data/train_capped_ratio_all.csv')\n",
    "test = pd.read_csv('Data/test_capped_ratio_all.csv')"
   ]
  },
  {
   "cell_type": "code",
   "execution_count": 4,
   "metadata": {},
   "outputs": [],
   "source": [
    "vars_to_encode = ['icu_id','apache_3j_diagnosis']\n",
    "for col in vars_to_encode:\n",
    "    train[col+'_encoded'], test[col+'_encoded'] = target_encode_train_test(\n",
    "        train[col],train[TARGET_COL],test[col])\n",
    "features_to_ignore = vars_to_encode+['hospital_id','encounter_id']\n",
    "features_to_ignore.remove('apache_3j_diagnosis')"
   ]
  },
  {
   "cell_type": "code",
   "execution_count": 5,
   "metadata": {},
   "outputs": [],
   "source": [
    "combined = pd.concat([train.drop(TARGET_COL,axis=1),test])"
   ]
  },
  {
   "cell_type": "code",
   "execution_count": null,
   "metadata": {},
   "outputs": [],
   "source": [
    "corrs_spearman = combined.drop(features_to_ignore,axis=1).rank().corr()\n",
    "corrs_spearman.to_csv('corrs_spearman_train_capped_ratio.csv')"
   ]
  },
  {
   "cell_type": "code",
   "execution_count": null,
   "metadata": {},
   "outputs": [],
   "source": [
    "corrs_pearson = combined.drop(features_to_ignore,axis=1).corr()\n",
    "corrs_pearson.to_csv('corrs_pearson_train_capped_ratio.csv')"
   ]
  },
  {
   "cell_type": "code",
   "execution_count": 11,
   "metadata": {},
   "outputs": [],
   "source": [
    "notna_counts = corrs_spearman.copy()\n",
    "for row in notna_counts.columns:\n",
    "    for col in notna_counts.columns:\n",
    "        notna_counts.loc[row,col] = (combined[row].notna() & combined[col].notna()).sum()\n",
    "notna_counts.to_csv('count_notna_pairwise.csv')"
   ]
  },
  {
   "cell_type": "code",
   "execution_count": 73,
   "metadata": {},
   "outputs": [],
   "source": [
    "corrs = np.abs(corrs_spearman)\n",
    "corrs2_notna = notna_counts*corrs_spearman.pow(2)\n",
    "# corrs = np.abs(corrs_pearson)\n",
    "# corrs2_notna = notna_counts*corrs_pearson.pow(2)"
   ]
  },
  {
   "cell_type": "code",
   "execution_count": 74,
   "metadata": {},
   "outputs": [],
   "source": [
    "high_corrs_dict = {}\n",
    "corr_list = []\n",
    "for index, row in corrs.iterrows():\n",
    "    corrs.loc[index,index] = 0\n",
    "    corr_vars = list(row.index[row > .8])\n",
    "    if corr_vars:\n",
    "        high_corrs_dict[index] = corr_vars\n",
    "        corr_list.append(index)"
   ]
  },
  {
   "cell_type": "code",
   "execution_count": 75,
   "metadata": {},
   "outputs": [],
   "source": [
    "vars_to_remove = []\n",
    "while corr_list:\n",
    "    pos_to_remove = corrs2_notna.drop(vars_to_remove,axis=1).loc[corr_list].sum(axis=1).divide(\n",
    "        combined[corr_list].notna().sum()).argmax()\n",
    "    var_to_remove = corr_list.pop(pos_to_remove)\n",
    "    vars_to_remove.append(var_to_remove)\n",
    "    for var in high_corrs_dict[var_to_remove]:\n",
    "        high_corrs_dict[var].remove(var_to_remove)\n",
    "        if not high_corrs_dict[var]:\n",
    "            corr_list.remove(var)"
   ]
  },
  {
   "cell_type": "code",
   "execution_count": 71,
   "metadata": {},
   "outputs": [
    {
     "data": {
      "text/plain": [
       "80"
      ]
     },
     "execution_count": 71,
     "metadata": {},
     "output_type": "execute_result"
    }
   ],
   "source": [
    "len(vars_to_remove)"
   ]
  },
  {
   "cell_type": "code",
   "execution_count": 76,
   "metadata": {},
   "outputs": [],
   "source": [
    "pd.Series(vars_to_remove,name='feature').to_csv('corr_80_spearman.csv')"
   ]
  },
  {
   "cell_type": "code",
   "execution_count": 77,
   "metadata": {},
   "outputs": [],
   "source": [
    "high_corr_vars = [\n",
    "    'd1_glucose_diff','elective_surgery','apache_post_operative','d1_mbp_noninvasive_min','h1_mbp_noninvasive_max',\n",
    "    'h1_mbp_noninvasive_min','h1_heartrate_max','h1_spo2_min','h1_spo2_max','h1_calcium_max','d1_hematocrit_min',\n",
    "    'd1_inr_max','h1_arterial_po2_max','d1_arterial_po2_diff','d1_arterial_po2_min_h1_diff','h1_arterial_po2_diff',\n",
    "    'd1_resprate_min_h1_diff','d1_mbp_noninvasive_diff','h1_arterial_pco2_measured','d1_sysbp_noninvasive_diff',\n",
    "    'h1_diasbp_invasive_diff','h1_sysbp_invasive_diff','d1_max_sysbp_diasbp_ratio','h1_pao2fio2ratio_min',\n",
    "    'h1_min_sysbp_diasbp_diff','d1_min_sysbp_diasbp_diff',\n",
    "#-------------------- .85 cutoff\n",
    "    'weight','gcs_eyes_apache','paco2_apache','d1_lactate_max','h1_arterial_ph_max',\n",
    "    'h1_hco3_sodium_bun_creatinine_measured','h1_blood_tests_measured','d1_spo2_diff','d1_pao2fio2ratio_max_h1_diff',\n",
    "    'h1_pao2fio2ratio_diff','h1_bp_invasive_flag','d1_heartrate_max','d1_sodium_min'\n",
    "]"
   ]
  },
  {
   "cell_type": "code",
   "execution_count": 78,
   "metadata": {},
   "outputs": [],
   "source": [
    "pd.Series(high_corr_vars,name='feature').to_csv('unimportant_vars_86457.csv')"
   ]
  }
 ],
 "metadata": {
  "kernelspec": {
   "display_name": "Python 3",
   "language": "python",
   "name": "python3"
  },
  "language_info": {
   "codemirror_mode": {
    "name": "ipython",
    "version": 3
   },
   "file_extension": ".py",
   "mimetype": "text/x-python",
   "name": "python",
   "nbconvert_exporter": "python",
   "pygments_lexer": "ipython3",
   "version": "3.7.0"
  }
 },
 "nbformat": 4,
 "nbformat_minor": 2
}

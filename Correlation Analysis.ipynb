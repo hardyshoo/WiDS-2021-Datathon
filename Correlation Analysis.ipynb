{
 "cells": [
  {
   "cell_type": "code",
   "execution_count": 1,
   "metadata": {},
   "outputs": [],
   "source": [
    "import pandas as pd\n",
    "import numpy as np\n",
    "from sklearn.impute import SimpleImputer\n",
    "from scipy.cluster import hierarchy\n",
    "from scipy.spatial.distance import squareform\n",
    "import matplotlib.pyplot as plt\n",
    "from sklearn.preprocessing import StandardScaler\n",
    "from sklearn.decomposition import PCA\n",
    "from sklearn.metrics import silhouette_score\n",
    "\n",
    "pd.set_option('max_rows', 500)\n",
    "pd.set_option('display.max_columns', 300)\n",
    "np.random.seed(666)\n",
    "pd.set_option('display.max_rows', 500)\n",
    "pd.set_option('display.width', 1000)\n",
    "pd.set_option('display.float_format', '{:20,.5f}'.format)\n",
    "pd.set_option('display.max_colwidth', None)"
   ]
  },
  {
   "cell_type": "code",
   "execution_count": 2,
   "metadata": {},
   "outputs": [],
   "source": [
    "TARGET_COL = 'diabetes_mellitus'\n",
    "cat_cols = ['ethnicity','hospital_admit_source','icu_admit_source','icu_stay_type','icu_type',\n",
    "            'age_group','demo_profile','apache_3j_group','a1c_bp_group',\n",
    "            'apache_2_diagnosis','icu_id']\n",
    "\n",
    "def target_encode(var, dv, weight = 36):\n",
    "    mean = dv.mean()\n",
    "    true_weight = weight * max(1, mean/(1-mean))\n",
    "    agg = dv.groupby(var,dropna=False).agg(['count','mean'])\n",
    "    counts = agg['count']\n",
    "    means = agg['mean']\n",
    "    return (counts * means + true_weight) / (counts + true_weight/mean)\n",
    "\n",
    "def target_encode_train_test(var_train, dv_train, var_test, weight = 36):\n",
    "    encode_key = target_encode(var_train,dv_train,weight)\n",
    "    return var_train.map(encode_key), var_test.map(encode_key).astype(np.float32).fillna(dv_train.mean())"
   ]
  },
  {
   "cell_type": "code",
   "execution_count": 3,
   "metadata": {},
   "outputs": [],
   "source": [
    "train = pd.read_csv('Data/train_FE2_filter4.csv')\n",
    "test = pd.read_csv('Data/test_FE2_filter4.csv')"
   ]
  },
  {
   "cell_type": "code",
   "execution_count": 4,
   "metadata": {},
   "outputs": [],
   "source": [
    "features_to_ignore = ['encounter_id','hospital_id','apache_3j_diagnosis']\n",
    "vars_to_encode = ['icu_id','apache_3j_diagnosis','demo_profile']\n",
    "for col in vars_to_encode:\n",
    "    train[col+'_encoded'], test[col+'_encoded'] = target_encode_train_test(\n",
    "        train[col],train[TARGET_COL],test[col])"
   ]
  },
  {
   "cell_type": "code",
   "execution_count": 6,
   "metadata": {},
   "outputs": [],
   "source": [
    "combined = pd.concat([train.drop(TARGET_COL,axis=1), test], ignore_index=True).drop(cat_cols+features_to_ignore,axis=1)\n",
    "# str_cols = ['icu_id','apache_2_diagnosis']\n",
    "# combined[str_cols] = combined[str_cols].astype(str)\n",
    "# combined[cat_cols] = combined[cat_cols].fillna('')\n",
    "#combined[cat_cols] = combined[cat_cols].astype('category')"
   ]
  },
  {
   "cell_type": "code",
   "execution_count": 7,
   "metadata": {},
   "outputs": [],
   "source": [
    "imp_median = SimpleImputer(strategy='median').fit(combined)\n",
    "combined = pd.DataFrame(imp_median.transform(combined), index=combined.index, columns = combined.columns)"
   ]
  },
  {
   "cell_type": "code",
   "execution_count": 8,
   "metadata": {},
   "outputs": [],
   "source": [
    "# corrs_spearman = combined.rank().corr()\n",
    "# corrs_spearman.to_csv('corrs_spearman.csv')\n",
    "corrs_spearman = pd.read_csv('corrs_spearman.csv')\n",
    "corrs_spearman.index = corrs_spearman['Unnamed: 0']\n",
    "corrs_spearman.drop('Unnamed: 0',axis=1,inplace=True)\n",
    "corrs_spearman = corrs_spearman.loc[combined.columns,combined.columns]"
   ]
  },
  {
   "cell_type": "code",
   "execution_count": 9,
   "metadata": {},
   "outputs": [
    {
     "data": {
      "text/plain": [
       "(562, 562)"
      ]
     },
     "execution_count": 9,
     "metadata": {},
     "output_type": "execute_result"
    }
   ],
   "source": [
    "corrs_spearman.shape"
   ]
  },
  {
   "cell_type": "code",
   "execution_count": null,
   "metadata": {},
   "outputs": [],
   "source": [
    "vars_to_inspect = ['bilirubin_apache','d1_bilirubin_max','d1_bilirubin_min']\n",
    "corrs_spearman.loc[vars_to_inspect,vars_to_inspect]"
   ]
  },
  {
   "cell_type": "code",
   "execution_count": null,
   "metadata": {},
   "outputs": [],
   "source": [
    "corrs = np.abs(corrs_spearman)"
   ]
  },
  {
   "cell_type": "code",
   "execution_count": null,
   "metadata": {},
   "outputs": [],
   "source": [
    "high_corrs_dict = {}\n",
    "corr_list = []\n",
    "for index, row in corrs.iterrows():\n",
    "    corr_vars = list(row.index[row > .95])\n",
    "    if index in corr_vars:\n",
    "        corr_vars.remove(index)\n",
    "    if corr_vars:\n",
    "        high_corrs_dict[index] = corr_vars\n",
    "        corr_list.append(index)"
   ]
  },
  {
   "cell_type": "code",
   "execution_count": null,
   "metadata": {},
   "outputs": [],
   "source": [
    "high_corrs_dict"
   ]
  },
  {
   "cell_type": "code",
   "execution_count": 10,
   "metadata": {},
   "outputs": [],
   "source": [
    "corrs_non_na = corrs_spearman.dropna(axis=0,how='all').dropna(axis=1,how='all')"
   ]
  },
  {
   "cell_type": "code",
   "execution_count": 11,
   "metadata": {},
   "outputs": [],
   "source": [
    "corrs_dist = np.sqrt((1-np.abs(np.array(corrs_non_na))))"
   ]
  },
  {
   "cell_type": "code",
   "execution_count": 12,
   "metadata": {},
   "outputs": [],
   "source": [
    "# corr_linkage = hierarchy.ward(corrs_dist[np.triu_indices(corrs_dist.shape[0])])\n",
    "ward_linkage = hierarchy.ward(squareform(corrs_dist))\n",
    "mean_linkage = hierarchy.average(squareform(corrs_dist))\n",
    "single_linkage = hierarchy.single(squareform(corrs_dist))\n",
    "complete_linkage = hierarchy.complete(squareform(corrs_dist))\n",
    "weighted_linkage = hierarchy.weighted(squareform(corrs_dist))\n",
    "centroid_linkage = hierarchy.centroid(squareform(corrs_dist))\n",
    "median_linkage = hierarchy.median(squareform(corrs_dist))"
   ]
  },
  {
   "cell_type": "code",
   "execution_count": 13,
   "metadata": {},
   "outputs": [
    {
     "name": "stdout",
     "output_type": "stream",
     "text": [
      "Ward cophenetic =  (0.36642251405611975, array([2.85306916, 3.96144968, 3.96144968, ..., 3.84958242, 3.96144968,\n",
      "       3.96144968]))\n",
      "Mean cophenetic =  (0.9016512141486301, array([0.89482995, 0.89482995, 0.98233024, ..., 0.98502118, 0.98502118,\n",
      "       0.98164537]))\n",
      "Single cophenetic =  (0.6972745530449925, array([0.60248792, 0.74945482, 0.87004648, ..., 0.91173679, 0.91173679,\n",
      "       0.80614989]))\n",
      "Complete cophenetic =  (0.8279194253751017, array([0.999982  , 0.99857645, 0.999982  , ..., 1.        , 1.        ,\n",
      "       0.999982  ]))\n",
      "Weighted cophenetic =  (0.8805125489026302, array([0.85239092, 0.89648187, 0.99386642, ..., 0.98834505, 0.99386642,\n",
      "       0.99386642]))\n",
      "Centroid cophenetic =  (0.589750634608529, array([0.61845396, 0.70483788, 0.70182855, ..., 0.71120409, 0.71120409,\n",
      "       0.67523076]))\n",
      "Median cophenetic =  (0.43658116479092834, array([0.5872312 , 0.74900301, 0.67284049, ..., 0.78848447, 0.78848447,\n",
      "       0.5607827 ]))\n"
     ]
    }
   ],
   "source": [
    "print('Ward cophenetic = ',hierarchy.cophenet(ward_linkage, squareform(corrs_dist)))\n",
    "print('Mean cophenetic = ',hierarchy.cophenet(mean_linkage, squareform(corrs_dist)))\n",
    "print('Single cophenetic = ',hierarchy.cophenet(single_linkage, squareform(corrs_dist)))\n",
    "print('Complete cophenetic = ',hierarchy.cophenet(complete_linkage, squareform(corrs_dist)))\n",
    "print('Weighted cophenetic = ',hierarchy.cophenet(weighted_linkage, squareform(corrs_dist)))\n",
    "print('Centroid cophenetic = ',hierarchy.cophenet(centroid_linkage, squareform(corrs_dist)))\n",
    "print('Median cophenetic = ',hierarchy.cophenet(median_linkage, squareform(corrs_dist)))"
   ]
  },
  {
   "cell_type": "code",
   "execution_count": 14,
   "metadata": {},
   "outputs": [],
   "source": [
    "silhouette_scores = []\n",
    "for n_clust in np.linspace(2,561,560):\n",
    "    clusters = hierarchy.fcluster(mean_linkage, t=n_clust, criterion='maxclust')\n",
    "    silhouette = silhouette_score(corrs_dist, clusters, metric='precomputed')\n",
    "    silhouette_scores.append({'n_cluster':n_clust,'silhouette':silhouette})\n",
    "silhouette_df = pd.DataFrame(silhouette_scores)"
   ]
  },
  {
   "cell_type": "code",
   "execution_count": 15,
   "metadata": {},
   "outputs": [
    {
     "data": {
      "text/plain": [
       "<AxesSubplot:xlabel='n_cluster', ylabel='silhouette'>"
      ]
     },
     "execution_count": 15,
     "metadata": {},
     "output_type": "execute_result"
    },
    {
     "data": {
      "image/png": "[encoded data removed]",
      "text/plain": [
       "<Figure size 432x288 with 1 Axes>"
      ]
     },
     "metadata": {
      "needs_background": "light"
     },
     "output_type": "display_data"
    }
   ],
   "source": [
    "silhouette_df.plot.scatter(x='n_cluster',y='silhouette')"
   ]
  },
  {
   "cell_type": "code",
   "execution_count": null,
   "metadata": {},
   "outputs": [],
   "source": [
    "silhouette_df.to_csv('silhouette_score.csv',index=False)"
   ]
  },
  {
   "cell_type": "code",
   "execution_count": 41,
   "metadata": {},
   "outputs": [
    {
     "data": {
      "text/plain": [
       "251              253.00000\n",
       "Name: n_cluster, dtype: float64"
      ]
     },
     "execution_count": 41,
     "metadata": {},
     "output_type": "execute_result"
    }
   ],
   "source": [
    "silhouette_df.n_cluster[silhouette_df.silhouette == silhouette_df.silhouette.max()]"
   ]
  },
  {
   "cell_type": "code",
   "execution_count": 42,
   "metadata": {},
   "outputs": [
    {
     "data": {
      "text/plain": [
       "0.3639275376811761"
      ]
     },
     "execution_count": 42,
     "metadata": {},
     "output_type": "execute_result"
    }
   ],
   "source": [
    "silhouette_df.silhouette.max()"
   ]
  },
  {
   "cell_type": "code",
   "execution_count": 51,
   "metadata": {},
   "outputs": [],
   "source": [
    "clusters = hierarchy.fcluster(mean_linkage, t=.547, criterion='distance')\n",
    "# 514=.4293\n",
    "# 452=.4975"
   ]
  },
  {
   "cell_type": "code",
   "execution_count": 52,
   "metadata": {},
   "outputs": [
    {
     "data": {
      "text/plain": [
       "0.3639275376811761"
      ]
     },
     "execution_count": 52,
     "metadata": {},
     "output_type": "execute_result"
    }
   ],
   "source": [
    "silhouette_score(corrs_dist, clusters, metric='precomputed')"
   ]
  },
  {
   "cell_type": "code",
   "execution_count": 53,
   "metadata": {},
   "outputs": [],
   "source": [
    "cluster_df = pd.DataFrame({'feature':corrs_non_na.columns,'cluster':clusters})"
   ]
  },
  {
   "cell_type": "code",
   "execution_count": 54,
   "metadata": {},
   "outputs": [
    {
     "data": {
      "text/html": [
       "<div>\n",
       "<style scoped>\n",
       "    .dataframe tbody tr th:only-of-type {\n",
       "        vertical-align: middle;\n",
       "    }\n",
       "\n",
       "    .dataframe tbody tr th {\n",
       "        vertical-align: top;\n",
       "    }\n",
       "\n",
       "    .dataframe thead th {\n",
       "        text-align: right;\n",
       "    }\n",
       "</style>\n",
       "<table border=\"1\" class=\"dataframe\">\n",
       "  <thead>\n",
       "    <tr style=\"text-align: right;\">\n",
       "      <th></th>\n",
       "      <th>feature</th>\n",
       "      <th>cluster</th>\n",
       "    </tr>\n",
       "  </thead>\n",
       "  <tbody>\n",
       "    <tr>\n",
       "      <th>76</th>\n",
       "      <td>heartrate_d1_max_min_switched</td>\n",
       "      <td>1</td>\n",
       "    </tr>\n",
       "    <tr>\n",
       "      <th>77</th>\n",
       "      <td>potassium_any_max_min_switched</td>\n",
       "      <td>2</td>\n",
       "    </tr>\n",
       "    <tr>\n",
       "      <th>149</th>\n",
       "      <td>temp_any_h1_more_extreme</td>\n",
       "      <td>3</td>\n",
       "    </tr>\n",
       "    <tr>\n",
       "      <th>151</th>\n",
       "      <td>temp_d1_h1_range_ratio</td>\n",
       "      <td>4</td>\n",
       "    </tr>\n",
       "    <tr>\n",
       "      <th>455</th>\n",
       "      <td>demo_profile_sodium_d1_avg_mean_ratio</td>\n",
       "      <td>5</td>\n",
       "    </tr>\n",
       "    <tr>\n",
       "      <th>...</th>\n",
       "      <td>...</td>\n",
       "      <td>...</td>\n",
       "    </tr>\n",
       "    <tr>\n",
       "      <th>10</th>\n",
       "      <td>gcs_unable_apache</td>\n",
       "      <td>249</td>\n",
       "    </tr>\n",
       "    <tr>\n",
       "      <th>73</th>\n",
       "      <td>aids</td>\n",
       "      <td>250</td>\n",
       "    </tr>\n",
       "    <tr>\n",
       "      <th>191</th>\n",
       "      <td>glucose_min_h1_more_extreme</td>\n",
       "      <td>251</td>\n",
       "    </tr>\n",
       "    <tr>\n",
       "      <th>94</th>\n",
       "      <td>h1_sysbp_diasbp_noninvasive_max_diff_0_or_less</td>\n",
       "      <td>252</td>\n",
       "    </tr>\n",
       "    <tr>\n",
       "      <th>137</th>\n",
       "      <td>platelets_min_h1_more_extreme</td>\n",
       "      <td>253</td>\n",
       "    </tr>\n",
       "  </tbody>\n",
       "</table>\n",
       "<p>562 rows × 2 columns</p>\n",
       "</div>"
      ],
      "text/plain": [
       "                                            feature  cluster\n",
       "76                    heartrate_d1_max_min_switched        1\n",
       "77                   potassium_any_max_min_switched        2\n",
       "149                        temp_any_h1_more_extreme        3\n",
       "151                          temp_d1_h1_range_ratio        4\n",
       "455           demo_profile_sodium_d1_avg_mean_ratio        5\n",
       "..                                              ...      ...\n",
       "10                                gcs_unable_apache      249\n",
       "73                                             aids      250\n",
       "191                     glucose_min_h1_more_extreme      251\n",
       "94   h1_sysbp_diasbp_noninvasive_max_diff_0_or_less      252\n",
       "137                   platelets_min_h1_more_extreme      253\n",
       "\n",
       "[562 rows x 2 columns]"
      ]
     },
     "execution_count": 54,
     "metadata": {},
     "output_type": "execute_result"
    }
   ],
   "source": [
    "cluster_df.sort_values('cluster')"
   ]
  },
  {
   "cell_type": "code",
   "execution_count": 55,
   "metadata": {},
   "outputs": [],
   "source": [
    "perm_importances = pd.read_csv('perm_importances.csv')\n",
    "perm_importances.rename(columns={'Unnamed: 0':'feature'},inplace=True)"
   ]
  },
  {
   "cell_type": "code",
   "execution_count": 56,
   "metadata": {},
   "outputs": [],
   "source": [
    "loss_function_changes = pd.read_csv('loss_function_changes.csv')"
   ]
  },
  {
   "cell_type": "code",
   "execution_count": 57,
   "metadata": {},
   "outputs": [],
   "source": [
    "pred_value_changes = pd.read_csv('pred_value_changes.csv')"
   ]
  },
  {
   "cell_type": "code",
   "execution_count": 58,
   "metadata": {},
   "outputs": [],
   "source": [
    "cluster_df.merge(\n",
    "    perm_importances[['feature','PI_mean','PI_SD','PI_Zscore']],on='feature',how='right').merge(\n",
    "    loss_function_changes[['feature','LFC_mean','LFC_SD','LFC_Zscore']],on='feature').merge(\n",
    "    pred_value_changes[['feature','PVC_mean','PVC_SD','PVC_Zscore']],on='feature').to_csv(\n",
    "    'clusters253_with_importances.csv',index=False)"
   ]
  },
  {
   "cell_type": "code",
   "execution_count": null,
   "metadata": {},
   "outputs": [],
   "source": [
    "fig, (ax1, ax2) = plt.subplots(1, 2, figsize=(100, 80))\n",
    "dendro = hierarchy.dendrogram(\n",
    "    mean_linkage, labels=corrs_non_na.columns, ax=ax1, leaf_rotation=90\n",
    ")"
   ]
  },
  {
   "cell_type": "code",
   "execution_count": null,
   "metadata": {},
   "outputs": [],
   "source": [
    "scaler = StandardScaler().fit(combined)\n",
    "combined_scaled = scaler.transform(combined)\n",
    "pca = PCA().fit(combined_scaled)"
   ]
  },
  {
   "cell_type": "code",
   "execution_count": null,
   "metadata": {},
   "outputs": [],
   "source": [
    "plt.plot(np.cumsum(pca.explained_variance_ratio_))\n",
    "plt.xlabel('number of components')\n",
    "plt.ylabel('cumulative explained variance')\n",
    "plt.show()"
   ]
  },
  {
   "cell_type": "code",
   "execution_count": null,
   "metadata": {},
   "outputs": [],
   "source": [
    "(np.cumsum(pca.explained_variance_ratio_) < .99).sum()"
   ]
  },
  {
   "cell_type": "code",
   "execution_count": null,
   "metadata": {},
   "outputs": [],
   "source": []
  },
  {
   "cell_type": "code",
   "execution_count": null,
   "metadata": {},
   "outputs": [],
   "source": [
    "# d1_glucose_max (+0), glucose_apache (+.00001)\n",
    "# glucose_d1_max_min_diff (-.00023), glucose_d1_max_min_ratio (-.00034)\n",
    "# apache_3j_diagnosis, apache_2_diagnosis\n",
    "# d1_wbc_max, d1_wbc_min\n",
    "# d1_creatine_min, creatinine_apache\n",
    "# h1_glucose_min, h1_glucose_max"
   ]
  }
 ],
 "metadata": {
  "kernelspec": {
   "display_name": "Python 3",
   "language": "python",
   "name": "python3"
  },
  "language_info": {
   "codemirror_mode": {
    "name": "ipython",
    "version": 3
   },
   "file_extension": ".py",
   "mimetype": "text/x-python",
   "name": "python",
   "nbconvert_exporter": "python",
   "pygments_lexer": "ipython3",
   "version": "3.8.5"
  }
 },
 "nbformat": 4,
 "nbformat_minor": 2
}
